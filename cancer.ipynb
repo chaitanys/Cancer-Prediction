{
 "cells": [
  {
   "cell_type": "code",
   "execution_count": null,
   "metadata": {},
   "outputs": [],
   "source": [
    "#Business Problem :-\n",
    "#There are lot of assumptions in the dignosis pertaining to concern. In a few radialogists,pythologists & ancologists go\n",
    "#wrong in diagnosing whether tumor is benign(non-cancerous) or maligant(cancerous).Hence team of physicia wants us to\n",
    "#build an AI application which will predict with confidence the presence of cancer in a patient. This will serve as a \n",
    "#compliment to the physicians.\n",
    "\n",
    "# Business Objectives :- Maximize Cancer Detection.\n",
    "# Business Constraints:- Minimize Treatment cost & Maximize patient convenience.\n",
    "\n",
    "#Success Criteria :- \n",
    "# 1. Business Success Criteria :- Increase the correct diagnosis of cancer in atleast 96% of patients.\n",
    "# 2. Machine Learning Success Criteria :- Achieve an accuracy of atleast 98%.\n",
    "# 3. Economic Success Criteria :- Reducing Medical expenses will improve trust of patients & theryby hospitals will see \n",
    "#                                 an increase in revenue by atleast 12%.\n",
    "\n",
    "# Data Collection :- \n",
    "#                  Data is collected from the hospitals for 569 patients. 30 features & 1 label comprise the feature set.The\n",
    "#  red-valued features are computed for each cell nucleus :-\n",
    "# a] Radius[Mean of distance from center to points on the perimeter]\n",
    "# b] Texture [Standard deviation of gray-scale values]\n",
    "# c] Perimeter\n",
    "# d] Area\n",
    "# E] Smoothness.[Local Variation]\n",
    "# F] Compactness[Perimeter ^2/area-1.0]\n",
    "# G] Concavity[Severity of concave portions of the counter]\n",
    "# H] Concave Point [Number of concave portions of the counter] \n",
    "# I] Symmetry\n",
    "# J] Fractal dimension[\"Coastline Approximation\"-1]  "
   ]
  },
  {
   "cell_type": "code",
   "execution_count": null,
   "metadata": {},
   "outputs": [],
   "source": [
    "#Import the required liabraries :-\n",
    "\n",
    "import pandas as pd\n",
    "import numpy as np\n",
    "import matplotlib.pyplot as plt\n",
    "\n",
    "from feature_engine.outliers import Winsorizer\n",
    "from sklearn.impute import SimpleImputer\n",
    "from sklearn.preprocessing import OneHotEncoder\n",
    "from sklearn.preprocessing import MinMaxScaler\n",
    "\n",
    "from sklearn_pandas import DataFrameMapper\n",
    "from sklearn.compose import ColumnTransformer\n",
    "\n",
    "from sklearn.model_selection import train_test_split\n",
    "from sklearn.neighbors import KNeighborsClassifier\n",
    "from sklearn.pipeline import Pipeline\n",
    "\n",
    "import sklearn.metrics as skmet\n",
    "import pickle\n"
   ]
  },
  {
   "cell_type": "code",
   "execution_count": null,
   "metadata": {},
   "outputs": [],
   "source": [
    "# Postgre SQL :- Psycopg2 it is a \"PstgreSQL database\" driver it is used to perform operations on PostgreSQL using \n",
    "# Python ,it is designed for multi-thraded applictions.\n",
    "\n",
    "import psycopg2\n",
    "from sqlalchemy import create_engine\n",
    "\n"
   ]
  },
  {
   "cell_type": "code",
   "execution_count": null,
   "metadata": {},
   "outputs": [],
   "source": [
    "# To read the data :-\n",
    "can = pd.read_csv(r\"D:\\Cancer Data\\Cancer_Data.csv\")\n",
    "can"
   ]
  },
  {
   "cell_type": "code",
   "execution_count": null,
   "metadata": {},
   "outputs": [],
   "source": [
    "# Data Preprocessing and EDA :- \n",
    "# Converting B to Benign and M to Malignant.\n",
    "\n",
    "can['diagnosis'] = np.where(can['diagnosis'] == 'B','Benign',can['diagnosis'])\n",
    "\n",
    "can['diagnosis'] = np.where(can['diagnosis'] == 'M', 'Malignant',can['diagnosis'])\n",
    "can"
   ]
  },
  {
   "cell_type": "code",
   "execution_count": null,
   "metadata": {},
   "outputs": [],
   "source": [
    "can.drop(['id'],axis = 1,inplace = True)  #Excluding Id Columns\n",
    "can.info()"
   ]
  },
  {
   "cell_type": "code",
   "execution_count": null,
   "metadata": {},
   "outputs": [],
   "source": [
    "can.describe()"
   ]
  },
  {
   "cell_type": "code",
   "execution_count": null,
   "metadata": {},
   "outputs": [],
   "source": [
    "#Remove Object Data Type :-\n",
    "numeric_features = can.select_dtypes(exclude = ['object']).columns\n",
    "numeric_features"
   ]
  },
  {
   "cell_type": "code",
   "execution_count": null,
   "metadata": {},
   "outputs": [],
   "source": [
    "num_pipeline = Pipeline(['impute',SimpleImputer(strategy = 'mean')])"
   ]
  },
  {
   "cell_type": "code",
   "execution_count": null,
   "metadata": {},
   "outputs": [],
   "source": [
    "#Encoding Categorical to numeric variable :-\n",
    "categorical_features = ['sex']\n",
    "categorical_features"
   ]
  },
  {
   "cell_type": "code",
   "execution_count": null,
   "metadata": {},
   "outputs": [],
   "source": [
    "#DataFrameMapper is used to map the given Attribute.\n",
    "categ_pipeline = Pipeline([\n",
    "    ('Label', DataFrameMapper([([cat_feature], OneHotEncoder(drop='if_binary')) for cat_feature in categorical_features]))\n",
    "])"
   ]
  },
  {
   "cell_type": "code",
   "execution_count": null,
   "metadata": {},
   "outputs": [],
   "source": [
    "# Using columntransfer to transform the columns of an array or pandas Dataframe.This estimator allows different.\n",
    "\n",
    "preprocess_pipeline = ColumnTransformer([\n",
    "    ('categorical', categ_pipeline, categorical_features),\n",
    "    ('numerical', num_pipeline, numeric_features)\n",
    "])"
   ]
  },
  {
   "cell_type": "code",
   "execution_count": null,
   "metadata": {},
   "outputs": [],
   "source": [
    "processed = preprocess_pipeline.fit_transform(can)  #Pass the raw data through pipeline\n",
    "processed"
   ]
  },
  {
   "cell_type": "code",
   "execution_count": null,
   "metadata": {},
   "outputs": [],
   "source": [
    "import joblib\n",
    "joblib.dump(processed,'processed 1')"
   ]
  },
  {
   "cell_type": "code",
   "execution_count": null,
   "metadata": {},
   "outputs": [],
   "source": [
    "import os\n",
    "os.getcwd()"
   ]
  },
  {
   "cell_type": "code",
   "execution_count": null,
   "metadata": {},
   "outputs": [],
   "source": [
    "#Clean & Processed Data for clustering:-\n",
    "\n",
    "can = pd.DataFrame(processed.transform(can))\n",
    "can\n",
    "\n",
    "can.columns\n",
    "can.info()"
   ]
  },
  {
   "cell_type": "code",
   "execution_count": null,
   "metadata": {},
   "outputs": [],
   "source": [
    "#Captures only numeric data.If in newcase we have any non-numeric columns, we can skip them through.\n",
    "new_features = can.select_dtypes(exclude = ['object']).columns\n",
    "\n",
    "new_features"
   ]
  },
  {
   "cell_type": "code",
   "execution_count": null,
   "metadata": {},
   "outputs": [],
   "source": [
    "scale_pipeline = Pipeline([('scale',MinMaxScaler())])\n",
    "\n",
    "preprocess_pipeline2 = ColumnTransformer([('scale',scale_pipeline,new_features)],\n",
    "                                         reminde = 'passthrough') # skip the transformation for remaining columns.\n",
    "\n",
    "processed2 = preprocess_pipeline2.fit(can)\n",
    "\n",
    "processed2"
   ]
  },
  {
   "cell_type": "code",
   "execution_count": null,
   "metadata": {},
   "outputs": [],
   "source": [
    "joblib.dump(processed2,'processed2')"
   ]
  },
  {
   "cell_type": "code",
   "execution_count": null,
   "metadata": {},
   "outputs": [],
   "source": [
    "import os\n",
    "os.getcwd"
   ]
  },
  {
   "cell_type": "code",
   "execution_count": null,
   "metadata": {},
   "outputs": [],
   "source": [
    "#Normalize data frame[considering the numerical part of data]\n",
    "\n",
    "can_n = pd.DataFrame(processed2.transform(can))\n",
    "\n",
    "can_n.describe()"
   ]
  },
  {
   "cell_type": "code",
   "execution_count": null,
   "metadata": {},
   "outputs": [],
   "source": [
    "#Seperating the input & output from the dataset :-\n",
    "\n",
    "X = np.array(can_n.iloc[:,:]) # Predictors\n",
    "\n",
    "Y = np.array(can['diagnosis']) # Target\n",
    "\n",
    "X_train,X_test,Y_train,Y_test = train_test_split(X,Y,test_size = 0.2, random_state = 0)\n",
    "\n",
    "X_train.shape\n",
    "Y_train.shape"
   ]
  },
  {
   "cell_type": "code",
   "execution_count": null,
   "metadata": {},
   "outputs": [],
   "source": [
    "# Model Building :-\n",
    "\n",
    "knn = KNeighborsClassifier(n_neighbors = 21)\n",
    "KNN = knn.fit(X_train,Y_train) #Train the KNN Model. "
   ]
  },
  {
   "cell_type": "code",
   "execution_count": null,
   "metadata": {},
   "outputs": [],
   "source": [
    "#Evaluate the model with train data :-\n",
    "\n",
    "pred_train = knn.predict(X_train) #Predict on train data.\n",
    "pred_train"
   ]
  },
  {
   "cell_type": "code",
   "execution_count": null,
   "metadata": {},
   "outputs": [],
   "source": [
    "#Cross Table:-\n",
    "pd.crosstab(Y_train,pred_train,rownames = ['Actual'],columns = ['Predictions'])\n",
    "\n",
    "print(skmet.accuracy_score(Y_train,pred_train))"
   ]
  },
  {
   "cell_type": "code",
   "execution_count": null,
   "metadata": {},
   "outputs": [],
   "source": [
    "#Predict the classon test data :- \n",
    "pred = knn.predict(X_test)\n",
    "pred"
   ]
  },
  {
   "cell_type": "code",
   "execution_count": null,
   "metadata": {},
   "outputs": [],
   "source": [
    "#Evaluate the model with test data :-\n",
    "print(skmet.accuracy_score(Y_test,pred))\n",
    "pd.crosstab(Y_test,pred,rownames = ['Actual'],columns = ['Predictions'])\n",
    "\n",
    "cm = skmet.ConfusionMatrixDisplay(confusion_matrix = cm,display_labels = ['Benign','Malignant'])\n",
    "cmplot.plot()\n",
    "\n",
    "cmplot.ax_.set(title = 'Cancer Detection - Confusion Matrix',xlabel = 'Predicted Value',ylabel = 'Actual Value')"
   ]
  },
  {
   "cell_type": "code",
   "execution_count": null,
   "metadata": {},
   "outputs": [],
   "source": [
    "# Creating Empty list Variable:-\n",
    "acc =[]"
   ]
  },
  {
   "cell_type": "code",
   "execution_count": null,
   "metadata": {},
   "outputs": [],
   "source": [
    "#Running KNN algorithm for 3 to 50 nearest neighbours(oddnumbers)& storing the accuracy values:-{3=start,50=end,2=encrement}\n",
    "\n",
    "for i in range(3,50,2):\n",
    "    neigh = KNeighborsClassifier(n_neighbors = i)\n",
    "    neigh.fit(X_train,Y_train)\n",
    "    train_acc = np.mean(neigh.predict(X_train) == Y_train)\n",
    "    test_acc = np.mean(neigh.predict(X_test) == Y_test)\n",
    "    diff = train_acc-test_acc\n",
    "    acc.append([diff,train_acc,test_acc])\n",
    "\n",
    "    acc   "
   ]
  },
  {
   "cell_type": "code",
   "execution_count": null,
   "metadata": {},
   "outputs": [],
   "source": [
    "# Train data Accuracy Plot :-\n",
    "plt.plot(np.arrange(3,50,2),[i[1]for i in acc],\"ro-\")\n",
    "\n",
    "# Test data Accuracy plot:-\n",
    "plt.plot(np.arrange(3,50,2),[i[2]for i in acc],\"bo-\")"
   ]
  },
  {
   "cell_type": "code",
   "execution_count": null,
   "metadata": {},
   "outputs": [],
   "source": [
    "from sklearn.model_selection import GridSearchCV\n",
    "help(knn)"
   ]
  },
  {
   "cell_type": "code",
   "execution_count": null,
   "metadata": {},
   "outputs": [],
   "source": [
    "K_range = list(range(3,50,2))\n",
    "param_grid = dict(n_neighbours = K_range)"
   ]
  },
  {
   "cell_type": "code",
   "execution_count": null,
   "metadata": {},
   "outputs": [],
   "source": [
    "# Defining Parameter Range :-\n",
    "grid = GridSearchCV(knn,param_grid,cv = 5, scoring = 'accuracy',return_train_score = False, verbose = 1)\n",
    "\n",
    "knn_new = grid.fit(X_train,Y_train)\n",
    "print(knn_new.best_params_)\n",
    "\n",
    "accuracy = knn_new.best_score_*100\n",
    "print(\"Accuracy for our training dataset with tuning is:{.2f%}.format(accuracy)\")"
   ]
  },
  {
   "cell_type": "code",
   "execution_count": null,
   "metadata": {},
   "outputs": [],
   "source": [
    "# Predict the class on test data :-\n",
    "\n",
    "pred = knn_new.predict(X_test)\n",
    "pred\n",
    "\n",
    "cm = skmet.confusion_matrix(Y_test, pred)"
   ]
  },
  {
   "cell_type": "code",
   "execution_count": null,
   "metadata": {},
   "outputs": [],
   "source": [
    "cmplot = skmet.ConfusionMatrixDisplay(confusion_matrix = cm,display_labels = ['Benign','Malignant'])\n",
    "\n",
    "cmplot.plot()\n",
    "\n",
    "cmplot.ax_.set(title = 'Cancer Detection - Confusion Matrix',xlabel = 'Predicted Value',ylabel = 'Actual Value')"
   ]
  },
  {
   "cell_type": "code",
   "execution_count": null,
   "metadata": {},
   "outputs": [],
   "source": [
    "# Save The Model :-\n",
    "knn_best = KNN_new.best_estimator_\n",
    "pickle.dump(knn_best,open('knn.pkl','wb'))"
   ]
  },
  {
   "cell_type": "code",
   "execution_count": null,
   "metadata": {},
   "outputs": [],
   "source": [
    "import os\n",
    "os.getcwd()"
   ]
  },
  {
   "cell_type": "code",
   "execution_count": null,
   "metadata": {},
   "outputs": [],
   "source": [
    "# Load a Saved Model :-\n",
    "model = pickle.load(open('knn.pkl','rd'))"
   ]
  }
 ],
 "metadata": {
  "language_info": {
   "name": "python"
  }
 },
 "nbformat": 4,
 "nbformat_minor": 2
}
